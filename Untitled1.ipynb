{
 "cells": [
  {
   "cell_type": "markdown",
   "metadata": {},
   "source": [
    "# Μια **πρακτική**  εισαγωγή στην Αστροστατιστική\n",
    "---\n",
    "δηλαδή εφαρμοσμένη στατιστική με ...*εφαρμογές* στην Αστρονομία\n",
    "\n",
    "### Βιβλιογραφία\n",
    "1.Statistics, data mining, and machine learning in astronomy: a practical Python guide for the analysis of survey data. (Princeton University Press, 2014).\n",
    "\n",
    "2.Wall, J. V. & Jenkins, C. R. Practical statistics for astronomers. (Cambridge University Press, 2003).\n",
    "\n",
    "3.Chattopadhyay, A. K. & Chattopadhyay, T. Statistical Methods for Astronomical Data Analysis. 3, (Springer New York, 2014).\n",
    "\n",
    "4.Bailer-Jones, Coryn A. L. Practical Bayesian Inference: A Primer for Physical Scientists. Cambridge: Cambridge University Press, 2017. https://doi.org/10.1017/9781108123891.\n"
   ]
  },
  {
   "cell_type": "markdown",
   "metadata": {},
   "source": [
    "# Probabillity and Statistics (1)\n",
    "## 1. Probabillity\n",
    "\n",
    "Η πιθανότητα είναι ένας τρόπος να ποσοτικοποιούμε τη κατάσταση της γνώσης μας για μια παράμετρο ή υπόθεση. \n",
    "\n",
    "Probability is a way of quantifying our state of knowledge of a proposition. Examples\n",
    "of propositions are “this is the spectrum of a star”, “it will rain tomorrow”, “model M\n",
    "is correct”, and “the period of oscillation lies between 1 and 1.1 seconds”. Our state of\n",
    "knowledge is inseparable from our belief: the probability reflects what we think about\n",
    "the proposition, based on information, data, etc., that we have. Other people with other\n",
    "information may well assign a different probability.\n",
    "Let A and B be two propositions which have probabilities P (A) and P (B) respectively.\n",
    "Without being too formal, the following are the essential axioms of probability. 1 Probabilities are real numbers that satisfy\n",
    "\n",
    "$$ 0 \\leq P(A) \\leq 1$$\n",
    "\n",
    "Denote as A the complement of A (i.e. A doesn’t happen or isn’t true). Then\n",
    "\n",
    "$$ P(A') = 1 - P(A) $$\n",
    "\n",
    "If two propositions A and B are mutually exclusive then\n",
    "\n",
    "$$ P(A \\text{ or }B)= P(A) +P(B) $$\n",
    "\n",
    "\n",
    "The conditional probability of A occurring given that B is true (e.g. A = “rain”,\n",
    "B = “cloudy”) is written $ P (A | B) $. The joint probability that both are true is written\n",
    "$P (A, B)$. It follows logically that we can factorize this and write it as\n",
    "$$ P (A \\text{ and } B) ≡ P (A, B) = P (A| B)P (B) = P (B | A)P (A)$$\n",
    "\n",
    "If A and B are mutually exclusive, $P (A, B) = 0$. If A and B are independent, $P (B | A) =\n",
    "P (B) \\text{ and } P (A| B) = P (A)$, in which case\n",
    "$$P (A, B) = P (A)P (B) $$\n",
    "Equation 1.5 is simple, yet it is one of the most important for inference. It can be rear-\n",
    "ranged and written as\n",
    "$$\n",
    "P (A | B) = \\frac{P (A, B)}{P (B)}\n",
    "$$ \n",
    "Note that $P (A | B) \\neq P (B | A) $.\n",
    "\n",
    "If you’re not convinced, take an example: think of A = “being female”, B = “being pregnant”. Suppose that the average human female gives birth to two children in her life (gestation period $9/12$ of a year) and the life expectancy is 80 years, then for a female chosen at random, $P (B | A) \\simeq 2 \\times (9/12)/80 \\simeq 0.02$. Different assumptions will give a slightly different result, but unless you work in a maternity ward it will be small. Yet I think all will agree that P (A | B) = 1, for all common definitions of “female” and “pregnant”.\n",
    "In general it must hold that\n",
    "$$ P (A) = P (A | B)P (B) + P (A | B')P (B') $$\n",
    "because B is either true or is not true, so all possibilities are covered. More generally, if\n",
    "$ \\{B_i \\}$ is the set of all possible propositions, i.e. $\\sum _i P (B_i ) = 1$, then it follows that\n",
    "$$\n",
    "P (A) =\\sum _i P (A, B_i ) =\\sum _i P (A | B_i )P (B_i )\n",
    "$$\n",
    "This is called the marginal probability of A, where “marginal” just means “average”, here\n",
    "over the $\\{B_i \\}$."
   ]
  },
  {
   "cell_type": "markdown",
   "metadata": {},
   "source": [
    "### Bayes’ theorem and the principle of inference\n",
    "If we rearrange the equation for joint probabilities, we get\n",
    "$$\n",
    "P (B | A) = \\frac{P (A | B)P (B)}{P (A)}\n",
    "$$\n",
    "This is called Bayes’ theorem. It was once referred to as inverse probability, because it\n",
    "relates the probability of B given A to the probability of A given B. It is fundamental in\n",
    "inference for the following reason. Taking M as a model (or hypothesis) and D as some\n",
    "data that we have obtained to test the model, then we can write Bayes’ theorem as\n",
    "$$\n",
    "P (M | D) = \\frac{P (D | M )P (M )}{P (D)}\n",
    "$$\n",
    "When we set up an experiment we can normally determine $P (D | M )$, the probability of\n",
    "observing the data (or perhaps a quantity derived from the data) under the assumption\n",
    "that the model is true. For example, we might be looking for the presence of spectral line\n",
    "(D = line is present) under the assumption that it is produced by a particular trace gas\n",
    "in an exoplanet’s atmosphere. We then set up a model M for the atmosphere and our\n",
    "measurements, and compute the probability $P (D | M )$ that this would allow us to observethe line. Note that this is not the probability that the model is true, given the data. That\n",
    "quantity is $P (M | D)$ (recall the example above about pregnancy and females). Observing\n",
    "the line does not necessarily indicate the presence of the gas, because there may be other\n",
    "origins of the line (i.e. other models).\n",
    "To infer $P (M | D)$ we use Bayes’ theorem. Equation 1.14 tells us that we need two other\n",
    "quantities in addition to $P (D | M )$. The first is $P (M )$, the unconditional probability that\n",
    "the model M is true. This is called the prior probability, prior here meaning “prior to using\n",
    "the data”. The other quantity we need is $P (D)$, the unconditional probability of the data,\n",
    "meaning its probability independent of any particular model. Let $\\{M_i \\}$ be the complete set\n",
    "of all models (mutually exclusive and exhaustive). Using equation 1.9 we can write\n",
    "$$\n",
    "P (D) =\\sum _i P (D | M_i )P (M_i )\n",
    "$$\n",
    "We now have all terms needed to compute $P (M | D)$, the posterior probability that M is\n",
    "true. This differs from the prior probability in that it is conditional on the data. Bayes’\n",
    "theorem underpins much of inference, so I will have a lot more to say about what it is and\n",
    "how we use it. We will return to it again in chapter 3."
   ]
  },
  {
   "cell_type": "markdown",
   "metadata": {},
   "source": [
    "### Discrete and continuous probability distributions\n",
    "So far we have considered discrete variables, whereby $P (B_i )$ gives the actual probability\n",
    "of proposition $B_i$ being true or of event $B_i$ occurring. We sometimes refer to the set of\n",
    "probabilities over all events as the probability mass function (PMF).\n",
    "For a continuous variable x we instead deal with the probability density function (PDF)\n",
    "$P (x)$. This is a density – probability per unit x – not a probability. $P (x)dx$ is the in-\n",
    "finitesimal probability of x in the range x to $x + dx$, so a finite probability is obtained by\n",
    "integrating over a region. Specifically, the probability of x lying between $x_1$ and $x_2$ is\n",
    "$$\n",
    "\\int _{x_1} ^{x_2} P (x) dx\n",
    "$$\n",
    "Probability is dimensionless: it has no units. Therefore the density $P (x)$ has units $1/x$.\n",
    "Note that $P (x | y)$ is a PDF in x, not in y. The thing after the bar just gives conditional\n",
    "information. The variables x and y need not have the same units, which is another reason\n",
    "why $P (x | y) \\neq P (y | x)$ in general. I will use the same symbol – upper case P – to refer to\n",
    "both PMFs and PDFs. It will be clear from the context which I mean.\n",
    "The range of the variable x over which the PDF (or PMF) is non-zero is called the\n",
    "support of the distribution. If it is non-zero over all real values, the distribution is said to\n",
    "have infinite support. If it has a bound, e.g. it is non-zero only for positive values, it is\n",
    "referred to as having semi-infinite support.1.2.6 Normalization\n",
    "A bona fide PDF is always normalized, i.e.\n",
    "$$\n",
    "\\int P (x) dx = 1\n",
    "$$\n",
    "and likewise\n",
    "$$\n",
    "\\sum _i P (x i ) = 1\n",
    "$$\n",
    "\n",
    "for discrete distributions. Distributions that cannot be normalized are called improper. An\n",
    "example is the uniform distribution with infinite support (section 1.4.4). It is not normaliz-\n",
    "able because its integral is infinite. We will nonetheless see that improper distributions can\n",
    "be useful in certain contexts.\n",
    "We will sometimes work with unnormalized distributions, which I will indicate\n",
    "using an asterisk $P^*$ . For an unnormalized PDF $P^* (x)$ the normalization constant is $\\int P (x) dx$, which is independent of x (because we’ve integrated over it). The normalized PDF is therefore\n",
    "$$\n",
    "P(x) = \\frac{P^* (x)}{\\int P^*(x) dx}\n",
    "$$\n",
    "and the normalized discrete distribution (probability mass function) is\n",
    "$$\n",
    "P(x_i )=\\frac{P ^*(x_i )}{\\sum _i P (x_i )}\n",
    "$$"
   ]
  },
  {
   "cell_type": "markdown",
   "metadata": {},
   "source": [
    "### RANDOM VARIABLES FROM [1]\n",
    "\n",
    "## Τυχαίες μεταβλητές \n",
    "Μια τυχαία (ή στοχαστική) μεταβλητή είναι μια μεταβλήτη η οποία προέρχεται από μια ποσότητα που υπόκεινται σε τυχαίες διακυμάνσης. Προέρχεται δηλαδή από μια στατιστική κατανομή. Υπαρχουν δύο ειδών τυχαίες μεταβλήτες, οι διακριτές (που μπορεί να προέρχονται για παράδειγμα από μια διωνυμική ή poisson κατανομή) και οι συνεχείς (gaussian αντιστοιχα)\n",
    "\n",
    "Δύο τυχαίες μεταβλητές $x,y$ είναι ανεξάρτητες να και μόνο αν:\n",
    "$$p(x,y)=p(x)p(y)$$\n",
    "Στη περίπτωση όπου δύο τυχαίες μεταβλητές δεν είναι ανεξάρτητες τότε:\n",
    "$$ p(x,y)=p(x|y)p(y)=p(y|x)p(x) $$\n",
    "Η marginal πιθανότητα δίνεται από \n",
    "$$\n",
    "p(x)= \\int p(x,y)dy = \\int p(x|y)p(y) dy\n",
    "$$\n",
    "Στο παρακάτω σχήμα γίνεται εμφανές η πραγματική κατανομή δυο μή ανεξαρτήτων μεταβλητών. Από τη συνδυασμένη κατανομή παίρνουμε slices τα οποία φαίνονται στα δεξιά. \n",
    "\n",
    "Δεν αρκεί όμως απλά να πάρουμε το slice της κατανομής. Η $p(x|1.5)$ είναι και αυτή μια κατανομή, άρα θα πρέπει συνολικά να έχει πιθανότητα 1. Άρα πρέπει να κανονικοποιήσουμε τη κατανομή, δηλαδή να διαιρέσουμε με τη marginal κατανομή της $y$ στο συγκεκριμένο slice, $$p(x|1.5)=\\frac{p(x,y=1.5)}{p(y=1.5)}$$\n",
    "\n",
    "![joint_probabillity](figures/joint_probability.png)\n",
    "\n",
    "Ο κανόνας του Bayes χτίζεται γενικεύοντας τις παραπαπάνω σχέσεις:\n",
    "$$\n",
    "p(y|x)=\\frac{p(x|y)p(y)}{p(x)}=\\frac{p(x|y)p(y)}{\\int p(x|y)p(y)dy}\n",
    "$$\n",
    "\n",
    "Ο απλός αυτός κανόνας, μια απλη αγλεβρική αναδιάταξη δηλαδή, μας ανοίξε νέους ορίζοντες στο να κάνουμε στατιστική. Ας δούμε ένα απλό παράδειγμα. \n",
    "\n",
    "Έστω ότι παρατηρούμε κάποιον -τον φώτη- να φοράει κασκόλ της αεκ, ποια η πιθανότητα να είναι οπαδός της αεκ?\n",
    "Τα ενδεχόμενα είναι δύο\n",
    "* ενδεχόμενο Α ο φώτης είναι αεκ\n",
    "* ενδεχόμενο Α' ο φώτης δεν είναι αεκ\n",
    "\n",
    "Αναζητούμε τη πιθανότητα δεδομένου ο φώτης να φοράει κασκολ της αεκ, να είναι και αεκ. Δηλαδή τη πιθανότητα $P(\\text{αεκ}|\\text{κασκολ αεκ})$.\n",
    "\n",
    "Χρησιμοποιώντας το κανόνα του Bayes έχουμε:\n",
    "\n",
    "$$\n",
    "P(\\text{αεκ}|\\text{κασκολ αεκ})=\n",
    "\\frac{P(\\text{αεκ}) P(\\text{κασκολ αεκ}|\\text{αεκ})}{P(\\text{αεκ}) P(\\text{κασκολ αεκ}|\\text{αεκ})+\n",
    "P(\\text{οχι αεκ}) P(\\text{κασκολ αεκ}|\\text{οχι αεκ})}\n",
    "$$\n",
    "\n",
    "\n",
    "Ας μελετήσουμε τη σχέση αυτή βήμα - βήμα:\n",
    "\n",
    "Ο όρος $P(\\text{αεκ})$ αποτελεί τη πιθανότητα να είναι κάποιος ΑΕΚ γενικά. Αυτη η πιθανότητα ονομάζεται **prior** και είναι η καινοτομία (καλή ή και κακή) που μας φέρνει η bayesian προσέγγιση. Θα πρέπει λοιπόν να έχουμε μια ένδειξη της υπόθεσης μας. Θεωρώντας ότι η ΑΕΚ είναι μια γνωστή ομάδα, οπού κρατάει ένα ποσοστό κοντά αλλα χαμηλότερα στο $1/3$ στην αθήνα θεωρούμε μια τιμή $1/5$. \n",
    "\n",
    "Ο όρος $P(\\text{κασκολ ΑΕΚ}|\\text{ΑΕΚ})$ αποτελεί τη πιθανότητα του να μην είναι τύχαιο κάποιος να φοράει ένα κασκολ της ΑΕΚ. Πρόκειται για τη σχέση πιθανοφάνειας ή **likehood**. Θεωρώντας ότι είναι αρκετά σπάνιο φαινόμενο αυτό δίνουμε μια τιμή $0.9$. Σημειώστε ότι χωρίς τη χρήση της bayesian προσέγγισης μάλλον η εκτίμηση μας θα ήταν αντίστοιχη αυτού του αριθμού.\n",
    "\n",
    "Ο όρος στον παρονομάστη είναι ουσιάστικα ένας όρος κανονικοποιήσης. Στα δικά μας δεδομένα είναι έυκολο να υπολογιστεί καθώς έχουμε μόνο δύο ενδεχώμενα. Σε πραγματικά δεδομένα -όπου θέλουμε σαν αποτέλεσμα μια κατανομή- όμως είναι πολύπλοκο να υπολογιστεί. Αυτό δεν μας πειράζει όμως καθώς μπορούμε έυκολα να κάνουμε τη κανονικοποίηση χωρίς να τον υπολογίσουμε.\n",
    "\n",
    "\\begin{align}\n",
    "P(\\text{αεκ}) = P_0 = 0.2 \\\\\n",
    "P(\\text{όχι αεκ}) = 1-P_0 = 0.8 \\\\\n",
    "P(\\text{κασκολ αεκ}|\\text{αεκ}) = 0.9 \\\\\n",
    "P(\\text{κασκολ αεκ}|\\text{οχι αεκ}) = 0.1 \\\\\n",
    "\\end{align}\n",
    "\n",
    "Η τελική πιθανότητα, ονομάζεται **posterior** υπολογίζεται λοιπόν περίπου $70\\%$."
   ]
  },
  {
   "cell_type": "markdown",
   "metadata": {},
   "source": [
    "### 1.1 Expectation\n",
    "\n",
    "We often want to summarize probability distributions with just a few numbers. Two sum-\n",
    "mary statistics of particular interest are the mean, which indicates the location of the dis-\n",
    "tribution, and the standard deviation, which is a measure of its width. Many of the most\n",
    "commonly occurring distributions are fully defined by these two parameters.\n",
    "The expectation value or mean of a continuous variable x with a PDF P (x) is defined as\n",
    "$$\n",
    "E[x] =\\int x P (x) dx\n",
    "$$\n",
    "For a discrete variable with PMF $P (x_i )$ it is defined as\n",
    "$$\n",
    "E[x] = \\sum _i x_i P (x_i )\n",
    "$$\n",
    "The expectation value is sometimes written as $\\mu$. The expectation value of a function $f (x)$\n",
    "is defined as\n",
    "$$\n",
    "E[f (x)] = \\int f (x) P (x) dx\n",
    "$$\n",
    "If we have a set of N data points drawn from a continuous distribution, then we can use\n",
    "equation 1.22 as an approximation for equation 1.21. Each data point occurs once, so im-\n",
    "plicitly $P (x_i ) = 1/N$ , and\n",
    "$$\n",
    "E[x] \\simeq \\frac{1}{N} \\sum _i ^N x_i = \\bar{x}\n",
    "$$\n",
    "which is called the sample mean. The law of large numbers says that in the limit $N \\to ]inf$ the sample mean tends towards the (true) mean.\n",
    "\n",
    "### 1.2 Variance\n",
    "The variance of a random variable x with expectation value $E[x]$ is defined as\n",
    "$$\n",
    "\\text{Var} (x) = \\int (x-E[x])^2 P(x) dx = \\dots = E[x^2]-E[x]^2\n",
    "$$\n",
    "We can remember this as “the variance is the expectation of the square minus the square of\n",
    "the expectation” (or just “mean square minus square mean”). If we know the true mean μ,\n",
    "then for a set of N data points $\\{x_i \\}$, the variance can be approximated by\n",
    "$$\n",
    "\\text{Var}(x)\\simeq \\frac{1}{N} \\sum _i ^N (x_i -\\mu)^2\n",
    "$$\n",
    "This is an approximation because of the finite sample size. If we don’t know $\\mu$ then we\n",
    "might want to estimate the variance as\n",
    "$$\n",
    "V_x= \\frac{1}{N} \\sum _i ^N (x_i -\\bar{x})^2=\\bar{x^2}-\\bar{x}^2\n",
    "$$\n",
    "However, if we calculate the expected value of this we find\n",
    "\n",
    "**[page 82 in 1]**\n",
    "$$\n",
    "E[V_x]=\\frac{N-1}{N}\\text{Var}(x)\n",
    "$$\n",
    "which is not equal to the true variance for finite N . It is therefore a biased estimate; specif-\n",
    "ically it is an underestimate (see section 2.1 for a discussion of estimator bias). The origin\n",
    "of this bias is that $V_x$ uses the estimated (sample) mean of the data (equation 1.24), whereas\n",
    "the definition of variance uses the true mean. As we have computed this bias we can correct\n",
    "for it, to give the sample variance, which is defined as\n",
    "$$\n",
    "\\hat{\\text{Var}(x)}=\\frac{1}{N-1}\\sum _i ^N (x_i -\\bar{x})^2\n",
    "$$\n",
    "which is an unbiased estimate of the true variance.\n",
    "\n",
    "The standard deviation is defined as\n",
    "$$\n",
    "\\sigma =\\sqrt{\\text{Var}(x)}\n",
    "$$\n",
    "which for a set of data of known mean is\n",
    "$$\n",
    "\\sigma\\simeq \\sqrt{ \\frac{1}{N} \\sum _i ^N (x_i -\\mu)^2}\n",
    "$$\n",
    "where the approximation symbol has again been used because we have a finite-sized sam-\n",
    "ple. The sample standard deviation is the square root of the sample variance\n",
    "$$\n",
    "\\hat{\\sigma}=\\sqrt{\\frac{1}{N-1}\\sum _i ^N (x_i -\\bar{x})^2}\n",
    "$$"
   ]
  },
  {
   "cell_type": "code",
   "execution_count": 1,
   "metadata": {},
   "outputs": [
    {
     "data": {
      "text/plain": [
       "<Figure size 648x396 with 0 Axes>"
      ]
     },
     "metadata": {},
     "output_type": "display_data"
    }
   ],
   "source": [
    "from scipy import stats\n",
    "from scipy import integrate\n",
    "import numpy as np\n",
    "%matplotlib inline\n",
    "import matplotlib.pyplot as plt\n",
    "from matplotlib import rc,rcParams\n",
    "rc('text', usetex=True)\n",
    "rcParams['figure.figsize'] = (9, 5.5)\n",
    "rcParams['ytick.labelsize'],rcParams['xtick.labelsize'] = 17.,17.\n",
    "rcParams['axes.labelsize']=19.\n",
    "rcParams['legend.fontsize']=17.\n",
    "rcParams['axes.titlesize']=20.\n",
    "import seaborn as sb\n",
    "sb.despine()\n",
    "sb.set_style('white', {'xes.linewidth': 0.5, 'axes.edgecolor':'black'})\n",
    "sb.despine(left=True)"
   ]
  },
  {
   "cell_type": "markdown",
   "metadata": {},
   "source": [
    "## Uniform"
   ]
  },
  {
   "cell_type": "code",
   "execution_count": 2,
   "metadata": {},
   "outputs": [],
   "source": [
    "u=stats.uniform\n",
    "xx=np.linspace(0,1)"
   ]
  },
  {
   "cell_type": "code",
   "execution_count": 3,
   "metadata": {},
   "outputs": [],
   "source": [
    "x=u.rvs(size=10)"
   ]
  },
  {
   "cell_type": "code",
   "execution_count": 4,
   "metadata": {},
   "outputs": [
    {
     "data": {
      "text/plain": [
       "[<matplotlib.lines.Line2D at 0x7fc2f07fe320>]"
      ]
     },
     "execution_count": 4,
     "metadata": {},
     "output_type": "execute_result"
    },
    {
     "data": {
      "image/png": "[encoded data removed]",
      "text/plain": [
       "<Figure size 432x288 with 1 Axes>"
      ]
     },
     "metadata": {
      "needs_background": "light"
     },
     "output_type": "display_data"
    }
   ],
   "source": [
    "plt.plot(xx,u.pdf(xx))"
   ]
  },
  {
   "cell_type": "code",
   "execution_count": 5,
   "metadata": {},
   "outputs": [
    {
     "data": {
      "text/plain": [
       "[<matplotlib.lines.Line2D at 0x7fc2f07f9eb8>]"
      ]
     },
     "execution_count": 5,
     "metadata": {},
     "output_type": "execute_result"
    },
    {
     "data": {
      "image/png": "[encoded data removed]",
      "text/plain": [
       "<Figure size 432x288 with 1 Axes>"
      ]
     },
     "metadata": {
      "needs_background": "light"
     },
     "output_type": "display_data"
    }
   ],
   "source": [
    "plt.plot(xx,u.cdf(xx))"
   ]
  },
  {
   "cell_type": "code",
   "execution_count": 6,
   "metadata": {},
   "outputs": [],
   "source": [
    "du=stats.randint"
   ]
  },
  {
   "cell_type": "code",
   "execution_count": 7,
   "metadata": {},
   "outputs": [],
   "source": [
    "xxd=np.linspace(0,99,10,dtype=int)"
   ]
  },
  {
   "cell_type": "code",
   "execution_count": 8,
   "metadata": {},
   "outputs": [
    {
     "data": {
      "text/plain": [
       "11"
      ]
     },
     "execution_count": 8,
     "metadata": {},
     "output_type": "execute_result"
    }
   ],
   "source": [
    "np.diff(xxd)[0]"
   ]
  },
  {
   "cell_type": "code",
   "execution_count": 9,
   "metadata": {},
   "outputs": [
    {
     "data": {
      "text/plain": [
       "<BarContainer object of 10 artists>"
      ]
     },
     "execution_count": 9,
     "metadata": {},
     "output_type": "execute_result"
    },
    {
     "data": {
      "image/png": "[encoded data removed]",
      "text/plain": [
       "<Figure size 432x288 with 1 Axes>"
      ]
     },
     "metadata": {
      "needs_background": "light"
     },
     "output_type": "display_data"
    }
   ],
   "source": [
    "plt.bar(xxd,du.pmf(xxd,low=0,high=1000),width=np.diff(xxd)[0])"
   ]
  },
  {
   "cell_type": "code",
   "execution_count": 50,
   "metadata": {},
   "outputs": [],
   "source": [
    "xd=du.rvs(size=100,low=1,high=100)"
   ]
  },
  {
   "cell_type": "code",
   "execution_count": 51,
   "metadata": {},
   "outputs": [
    {
     "data": {
      "text/plain": [
       "(array([0.01632653, 0.01020408, 0.00612245, 0.01428571, 0.00612245,\n",
       "        0.0122449 , 0.00408163, 0.00816327, 0.00816327, 0.0122449 ,\n",
       "        0.01020408, 0.01020408, 0.0122449 , 0.00816327, 0.01020408,\n",
       "        0.01020408, 0.00408163, 0.01020408, 0.01020408, 0.02040816]),\n",
       " array([ 1. ,  5.9, 10.8, 15.7, 20.6, 25.5, 30.4, 35.3, 40.2, 45.1, 50. ,\n",
       "        54.9, 59.8, 64.7, 69.6, 74.5, 79.4, 84.3, 89.2, 94.1, 99. ]),\n",
       " <a list of 20 Patch objects>)"
      ]
     },
     "execution_count": 51,
     "metadata": {},
     "output_type": "execute_result"
    },
    {
     "data": {
      "image/png": "[encoded data removed]",
      "text/plain": [
       "<Figure size 432x288 with 1 Axes>"
      ]
     },
     "metadata": {
      "needs_background": "light"
     },
     "output_type": "display_data"
    }
   ],
   "source": [
    "plt.hist(xd,density=True,bins=20)"
   ]
  },
  {
   "cell_type": "code",
   "execution_count": 52,
   "metadata": {},
   "outputs": [
    {
     "data": {
      "text/plain": [
       "(array([5.10204082e-04, 1.63265306e-04, 1.02040816e-04, 6.12244898e-05,\n",
       "        1.42857143e-04, 1.02040816e-04, 8.16326531e-05, 1.02040816e-04,\n",
       "        8.16326531e-05, 4.08163265e-05, 1.02040816e-04, 0.00000000e+00,\n",
       "        1.02040816e-04, 0.00000000e+00, 8.16326531e-05, 4.08163265e-05,\n",
       "        6.12244898e-05, 6.12244898e-05, 6.12244898e-05, 1.42857143e-04]),\n",
       " array([1.000e+00, 4.910e+02, 9.810e+02, 1.471e+03, 1.961e+03, 2.451e+03,\n",
       "        2.941e+03, 3.431e+03, 3.921e+03, 4.411e+03, 4.901e+03, 5.391e+03,\n",
       "        5.881e+03, 6.371e+03, 6.861e+03, 7.351e+03, 7.841e+03, 8.331e+03,\n",
       "        8.821e+03, 9.311e+03, 9.801e+03]),\n",
       " <a list of 20 Patch objects>)"
      ]
     },
     "execution_count": 52,
     "metadata": {},
     "output_type": "execute_result"
    },
    {
     "data": {
      "image/png": "[encoded data removed]",
      "text/plain": [
       "<Figure size 432x288 with 1 Axes>"
      ]
     },
     "metadata": {
      "needs_background": "light"
     },
     "output_type": "display_data"
    }
   ],
   "source": [
    "plt.hist(xd**2,density=True,bins=20)"
   ]
  },
  {
   "cell_type": "code",
   "execution_count": 63,
   "metadata": {},
   "outputs": [],
   "source": [
    "def E(x,p):\n",
    "    return np.sum(p*x)\n",
    "def Var(x,p):\n",
    "    return E(x**2,p)-E(x,p)**2"
   ]
  },
  {
   "cell_type": "code",
   "execution_count": 68,
   "metadata": {},
   "outputs": [],
   "source": [
    "N=xd.shape[0]"
   ]
  },
  {
   "cell_type": "code",
   "execution_count": 69,
   "metadata": {},
   "outputs": [],
   "source": [
    "pxd=(np.ones(shape=N)/N)"
   ]
  },
  {
   "cell_type": "code",
   "execution_count": 73,
   "metadata": {},
   "outputs": [
    {
     "data": {
      "text/plain": [
       "936.3019000000004"
      ]
     },
     "execution_count": 73,
     "metadata": {},
     "output_type": "execute_result"
    }
   ],
   "source": [
    "((xd**2).mean()-xd.mean()**2)"
   ]
  },
  {
   "cell_type": "code",
   "execution_count": null,
   "metadata": {},
   "outputs": [],
   "source": [
    "Ε()"
   ]
  },
  {
   "cell_type": "code",
   "execution_count": 77,
   "metadata": {},
   "outputs": [
    {
     "data": {
      "text/plain": [
       "945.7594949494953"
      ]
     },
     "execution_count": 77,
     "metadata": {},
     "output_type": "execute_result"
    }
   ],
   "source": [
    "np.sum(xd**2-xd.mean()**2)/(N-1)"
   ]
  },
  {
   "cell_type": "code",
   "execution_count": 74,
   "metadata": {},
   "outputs": [
    {
     "data": {
      "text/plain": [
       "(50.91000000000001, 936.3018999999986)"
      ]
     },
     "execution_count": 74,
     "metadata": {},
     "output_type": "execute_result"
    }
   ],
   "source": [
    "E(xd,pxd),Var(xd,pxd)"
   ]
  },
  {
   "cell_type": "markdown",
   "metadata": {},
   "source": [
    "## 1.3 Distributions"
   ]
  },
  {
   "cell_type": "code",
   "execution_count": null,
   "metadata": {},
   "outputs": [],
   "source": [
    "Binomial\n",
    "This probability distribution describes processes in which an event can have only one of\n",
    "two possible outcomes. Examples include tossing a coin, detecting something at a security\n",
    "check, or winning the lottery. Let p be the probability of one event, call it “success”; 1 − p\n",
    "is the probability of the other event (“failure”). If the trial is repeated independently n\n",
    "times, then we are interested in the probability of getting exactly r successes, which we\n",
    "can label P (r | p, n). Suppose that the first r trials are successes and the remainder, n − r,\n",
    "are all failures. As the trials are independent, the probability of this sequence is just the\n",
    "product of the probabilities, p r (1 − p) n−r . This is the probability of just one particular\n",
    "sequence of trials. The number of unique sequences with this probability is the number of\n",
    "ways of selecting r from n (without replacement), which is n C r (see section 1.7). As these\n",
    "sequences are mutually exclusive we just sum the probability n C r times. This gives us thebinomial distribution"
   ]
  }
 ],
 "metadata": {
  "kernelspec": {
   "display_name": "Python 3",
   "language": "python",
   "name": "python3"
  },
  "language_info": {
   "codemirror_mode": {
    "name": "ipython",
    "version": 3
   },
   "file_extension": ".py",
   "mimetype": "text/x-python",
   "name": "python",
   "nbconvert_exporter": "python",
   "pygments_lexer": "ipython3",
   "version": "3.6.6"
  }
 },
 "nbformat": 4,
 "nbformat_minor": 2
}
